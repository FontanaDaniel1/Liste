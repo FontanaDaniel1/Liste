{
  "nbformat": 4,
  "nbformat_minor": 0,
  "metadata": {
    "colab": {
      "provenance": [],
      "include_colab_link": true
    },
    "kernelspec": {
      "name": "python3",
      "display_name": "Python 3"
    },
    "language_info": {
      "name": "python"
    }
  },
  "cells": [
    {
      "cell_type": "markdown",
      "metadata": {
        "id": "view-in-github",
        "colab_type": "text"
      },
      "source": [
        "<a href=\"https://colab.research.google.com/github/FontanaDaniel1/Liste/blob/main/correzione_Verifica_lista.ipynb\" target=\"_parent\"><img src=\"https://colab.research.google.com/assets/colab-badge.svg\" alt=\"Open In Colab\"/></a>"
      ]
    },
    {
      "cell_type": "markdown",
      "source": [
        "2.1 caricare i primi 50 multipli di 5"
      ],
      "metadata": {
        "id": "El_2GZ9Bwcxn"
      }
    },
    {
      "cell_type": "code",
      "execution_count": null,
      "metadata": {
        "id": "PPL97Gbvv7gj"
      },
      "outputs": [],
      "source": [
        "multipli5 = [i for i in range(5, 255, 5)]\n",
        "print(multipli5)"
      ]
    },
    {
      "cell_type": "code",
      "source": [
        "multipli5 = [i * 5 for i in range(1,51)]\n",
        "print(multipli5)"
      ],
      "metadata": {
        "id": "_EItI1Pnx6Jf"
      },
      "execution_count": null,
      "outputs": []
    },
    {
      "cell_type": "code",
      "source": [
        "multipli5 = [i for i in range(5, 255) if i % 5 == 0]\n",
        "print(multipli5)"
      ],
      "metadata": {
        "id": "kLhgJIbZyf4u"
      },
      "execution_count": null,
      "outputs": []
    },
    {
      "cell_type": "markdown",
      "source": [
        "2.2 caricare in una lista solo i multipli di 10"
      ],
      "metadata": {
        "id": "lVrUJiU9zOfm"
      }
    },
    {
      "cell_type": "code",
      "source": [
        "multipli10 = [mul for mul in multipli5 if mul % 10 == 0]\n",
        "print(multipli10)"
      ],
      "metadata": {
        "id": "3SXGpjLizXMX"
      },
      "execution_count": null,
      "outputs": []
    },
    {
      "cell_type": "markdown",
      "source": [
        "2.3 eliminare dalla seconda lista i valori compresi tra 30 e 60"
      ],
      "metadata": {
        "id": "qo65P0ChBLO1"
      }
    },
    {
      "cell_type": "code",
      "source": [
        "count = 0 \n",
        "for valore in multipli10:\n",
        "  if valore >= 30 and valore <= 160: \n",
        "    multipli10.remove(valore)\n",
        "    count += 1\n",
        "print(multipli10)\n",
        "\n",
        "#da fare per mercoledì"
      ],
      "metadata": {
        "id": "hRvEqbAJBbUD"
      },
      "execution_count": null,
      "outputs": []
    },
    {
      "cell_type": "markdown",
      "source": [
        "2..4 caricare in una nuova lista i 5 elementi centrali"
      ],
      "metadata": {
        "id": "A8uhl16wDcP1"
      }
    },
    {
      "cell_type": "code",
      "source": [
        "multiplicentrali = []\n",
        "print(len(multipli10))\n",
        "multiplicentrali = (multipli10[len(multipli10) // 2-2:len(multipli10) // 2+3])\n",
        "print(multiplicentrali)"
      ],
      "metadata": {
        "id": "ECq2jnFyDiwm"
      },
      "execution_count": null,
      "outputs": []
    },
    {
      "cell_type": "markdown",
      "source": [
        "2.5 moltiplicare per 10 tutti i num precendenti"
      ],
      "metadata": {
        "id": "cn8QSFBsFmPa"
      }
    },
    {
      "cell_type": "code",
      "source": [
        "prodotti = [numero*10 for numero in multiplicentrali]\n",
        "print(prodotti)"
      ],
      "metadata": {
        "id": "Ly5ydtfwFp0T"
      },
      "execution_count": null,
      "outputs": []
    },
    {
      "cell_type": "markdown",
      "source": [
        "2.6 mettere in un unica lista tutti i valori presenti nelle liste precedenti"
      ],
      "metadata": {
        "id": "zgGWGjaaGG7L"
      }
    },
    {
      "cell_type": "code",
      "source": [
        "listaunica = multipli5 + multipli10 + multiplicentrali + prodotti\n",
        "print(listaunica)"
      ],
      "metadata": {
        "id": "QiRw1CqwGNpL"
      },
      "execution_count": null,
      "outputs": []
    },
    {
      "cell_type": "markdown",
      "source": [
        "esericizio 2 verifica pari"
      ],
      "metadata": {
        "id": "DMTsTX-KHUD8"
      }
    },
    {
      "cell_type": "code",
      "source": [
        "studenti = [\"papes\", \"cottone\", \"neri\", \"dipace\", \"fonta\", \"mile\", \"berna\", \"leone\", \"gere\", \"erne\", \"dari\"]"
      ],
      "metadata": {
        "id": "UjboD8BdHTtU"
      },
      "execution_count": null,
      "outputs": []
    },
    {
      "cell_type": "markdown",
      "source": [
        "visualizzare lo studente che si trova al num 10"
      ],
      "metadata": {
        "id": "ekijBbjhHy9i"
      }
    },
    {
      "cell_type": "code",
      "source": [
        "print(studenti[9])"
      ],
      "metadata": {
        "id": "zLYiNfScHxlD"
      },
      "execution_count": null,
      "outputs": []
    },
    {
      "cell_type": "markdown",
      "source": [
        "visualizzare i 5 studenti centrali"
      ],
      "metadata": {
        "id": "oPdVaueZIJJa"
      }
    },
    {
      "cell_type": "code",
      "source": [
        "studenticentrali = (studenti[len(studenti) // 2-2:len(studenti) // 2+3])\n",
        "print(studenticentrali)"
      ],
      "metadata": {
        "id": "H1gnILgGIMVi"
      },
      "execution_count": null,
      "outputs": []
    },
    {
      "cell_type": "markdown",
      "source": [
        "visualizzare i primi 10 studenti"
      ],
      "metadata": {
        "id": "IENiSGu3IywM"
      }
    },
    {
      "cell_type": "code",
      "source": [
        "print(studenti[:10])"
      ],
      "metadata": {
        "id": "BbQ7eUYQIvWD"
      },
      "execution_count": null,
      "outputs": []
    },
    {
      "cell_type": "markdown",
      "source": [
        "trovare studenti randomicamente"
      ],
      "metadata": {
        "id": "gOYQU12PJEmb"
      }
    },
    {
      "cell_type": "code",
      "source": [
        "import random\n",
        "studenti[random.randint(0,len(studenti)-1)]"
      ],
      "metadata": {
        "id": "EbNA_Nf2N4bi"
      },
      "execution_count": null,
      "outputs": []
    },
    {
      "cell_type": "code",
      "source": [
        "print(random.sample(studenti,3))"
      ],
      "metadata": {
        "colab": {
          "base_uri": "https://localhost:8080/"
        },
        "id": "o4pzYImGJIjm",
        "outputId": "8ec89559-b23b-49f2-8dab-ade527385fb7"
      },
      "execution_count": null,
      "outputs": [
        {
          "output_type": "stream",
          "name": "stdout",
          "text": [
            "['mile', 'berna', 'fonta']\n"
          ]
        }
      ]
    },
    {
      "cell_type": "markdown",
      "source": [
        "aggiungere in coda all elenco un nuovo studente, antonio cassano. dopo l inserimento visualizzare il nuovo elenco di nominativi ordinati in ordini alfabetico"
      ],
      "metadata": {
        "id": "O_xoVBdvOSWa"
      }
    },
    {
      "cell_type": "code",
      "source": [
        "studenti.append(\"grieco\")\n",
        "studenti.sort()\n",
        "print(studenti)"
      ],
      "metadata": {
        "colab": {
          "base_uri": "https://localhost:8080/"
        },
        "id": "87gH46a7Om4b",
        "outputId": "cf4eb4af-9b3c-497c-c905-1551d3faa3b7"
      },
      "execution_count": null,
      "outputs": [
        {
          "output_type": "stream",
          "name": "stdout",
          "text": [
            "['berna', 'cottone', 'dari', 'dipace', 'erne', 'fonta', 'gere', 'grieco', 'leone', 'mile', 'neri', 'papes']\n"
          ]
        }
      ]
    },
    {
      "cell_type": "markdown",
      "source": [
        "terminare la correzione delle verifiche fila pari fila dispari🤷‍♂️🤷‍♂️"
      ],
      "metadata": {
        "id": "Pk9amJkLQCiM"
      }
    },
    {
      "cell_type": "code",
      "source": [],
      "metadata": {
        "id": "QtRqjGtQQw7r"
      },
      "execution_count": null,
      "outputs": []
    }
  ]
}