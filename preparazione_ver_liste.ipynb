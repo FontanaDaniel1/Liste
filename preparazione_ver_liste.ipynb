{
  "nbformat": 4,
  "nbformat_minor": 0,
  "metadata": {
    "colab": {
      "provenance": [],
      "authorship_tag": "ABX9TyOY3HtGn9fTyMdlDQLyy+tp",
      "include_colab_link": true
    },
    "kernelspec": {
      "name": "python3",
      "display_name": "Python 3"
    },
    "language_info": {
      "name": "python"
    }
  },
  "cells": [
    {
      "cell_type": "markdown",
      "metadata": {
        "id": "view-in-github",
        "colab_type": "text"
      },
      "source": [
        "<a href=\"https://colab.research.google.com/github/FontanaDaniel1/Liste/blob/main/preparazione_ver_liste.ipynb\" target=\"_parent\"><img src=\"https://colab.research.google.com/assets/colab-badge.svg\" alt=\"Open In Colab\"/></a>"
      ]
    },
    {
      "cell_type": "code",
      "execution_count": null,
      "metadata": {
        "id": "QLsSS5psSG2L"
      },
      "outputs": [],
      "source": [
        "nomi = [\"Luca\", \"Carlo\", \"Maria\", \"Angela\", \"Stefano\" , \"Davide\"]\n",
        "altezza = [1.80, 1.67, 1.75, 1.68, 1.81 , 1.78]\n",
        "peso = [77, 48, 81, 55, 90 , 70 ]"
      ]
    },
    {
      "cell_type": "markdown",
      "source": [
        "far inserire all'utente un nome e fornire il peso e l'altezza dello studente inserito"
      ],
      "metadata": {
        "id": "5iPK48oHSzmO"
      }
    },
    {
      "cell_type": "code",
      "source": [
        "NomeStudente = input(\"inserisci il nome dello studente: \")\n",
        "print(altezza[nomi.index(NomeStudente)])\n",
        "print(peso[nomi.index(NomeStudente)])"
      ],
      "metadata": {
        "id": "WlRzKAi_S30P"
      },
      "execution_count": null,
      "outputs": []
    },
    {
      "cell_type": "markdown",
      "source": [
        "visualizzare il nome dello studente più alto"
      ],
      "metadata": {
        "id": "T99IOFxiU2zo"
      }
    },
    {
      "cell_type": "code",
      "source": [
        "altezzaMassima = max(altezza)\n",
        "print(altezzaMassima)\n",
        "posizionealtezzaMassima = altezza.index(altezzaMassima)\n",
        "print(posizionealtezzaMassima)\n",
        "print(nomi[posizionealtezzaMassima])"
      ],
      "metadata": {
        "id": "vScj0hk3U9Ll",
        "colab": {
          "base_uri": "https://localhost:8080/"
        },
        "outputId": "37cbe9f4-4245-4ea7-b60b-17e5fa10f713"
      },
      "execution_count": null,
      "outputs": [
        {
          "output_type": "stream",
          "name": "stdout",
          "text": [
            "1.81\n",
            "4\n",
            "Stefano\n"
          ]
        }
      ]
    },
    {
      "cell_type": "markdown",
      "source": [
        "visualizzare il nome dello studente più magro"
      ],
      "metadata": {
        "id": "tSauglq2XI-r"
      }
    },
    {
      "cell_type": "code",
      "source": [
        "pesoMinimo = min(peso)\n",
        "print(pesoMinimo)\n",
        "posizionePesoMinimo = peso.index(pesoMinimo)\n",
        "print(posizionePesoMinimo)\n",
        "print(nomi[posizionePesoMinimo])"
      ],
      "metadata": {
        "id": "h4GZiQxgXJ7s",
        "colab": {
          "base_uri": "https://localhost:8080/"
        },
        "outputId": "8ccc77a4-e911-4377-e3eb-d0a6b62443e0"
      },
      "execution_count": null,
      "outputs": [
        {
          "output_type": "stream",
          "name": "stdout",
          "text": [
            "48\n",
            "1\n",
            "Carlo\n"
          ]
        }
      ]
    },
    {
      "cell_type": "markdown",
      "source": [
        "far inserire il nome di uno studente e calcolare il suo IMC"
      ],
      "metadata": {
        "id": "aiIWerraYId-"
      }
    },
    {
      "cell_type": "code",
      "source": [
        "nome = input(\"inserisci il nome dello studente:\")\n",
        "imc =  peso[nomi.index(nome)] / altezza[nomi.index(nome)]**2\n",
        "print(imc)"
      ],
      "metadata": {
        "id": "8qFITKU2YKk_",
        "colab": {
          "base_uri": "https://localhost:8080/"
        },
        "outputId": "2a33ce6e-6a01-43e1-fc27-bb6cc60200c4"
      },
      "execution_count": null,
      "outputs": [
        {
          "output_type": "stream",
          "name": "stdout",
          "text": [
            "inserisci il nome dello studente:Luca\n",
            "23.76543209876543\n"
          ]
        }
      ]
    },
    {
      "cell_type": "markdown",
      "source": [
        "calcolare il peso medio degli studenti"
      ],
      "metadata": {
        "id": "HKw211irZNDP"
      }
    },
    {
      "cell_type": "code",
      "source": [
        "from statistics import mean \n",
        "print(mean(peso))"
      ],
      "metadata": {
        "id": "Ac3cAaYCZN29"
      },
      "execution_count": null,
      "outputs": []
    },
    {
      "cell_type": "markdown",
      "source": [
        "visualizzare il numero di studenti"
      ],
      "metadata": {
        "id": "otGJQ-cuZNAp"
      }
    },
    {
      "cell_type": "code",
      "source": [
        "len(nomi)"
      ],
      "metadata": {
        "id": "M_eb5jdDZuP3"
      },
      "execution_count": null,
      "outputs": []
    },
    {
      "cell_type": "markdown",
      "source": [
        "aggiungere lo studente Marco che pesa 76 Kg ed è alto 1.90"
      ],
      "metadata": {
        "id": "H81m1F5JZ1P9"
      }
    },
    {
      "cell_type": "code",
      "source": [
        "nomi.append(\"Marco\")\n",
        "altezza.append(1.90)\n",
        "peso.append(76)"
      ],
      "metadata": {
        "id": "a3FIBuwWZ2Hs"
      },
      "execution_count": null,
      "outputs": []
    },
    {
      "cell_type": "code",
      "source": [
        "print(nomi, altezza, peso)"
      ],
      "metadata": {
        "id": "NWJugtY4akh-"
      },
      "execution_count": null,
      "outputs": []
    },
    {
      "cell_type": "markdown",
      "source": [
        " eliminare le informazioni riguardanti Maria"
      ],
      "metadata": {
        "id": "Ucvkr4N1atv-"
      }
    },
    {
      "cell_type": "code",
      "source": [
        "posizioneMaria = nomi.index(\"Maria\")\n",
        "#nomi.pop(posizioneMaria)\n",
        "#altezza.pop(posizioneMaria)\n",
        "#peso.pop(posizioneMaria)\n",
        "print(nomi.pop(posizioneMaria), altezza.pop(posizioneMaria), peso.pop(posizioneMaria))"
      ],
      "metadata": {
        "id": "4uR_0pM2auQ-"
      },
      "execution_count": null,
      "outputs": []
    },
    {
      "cell_type": "code",
      "source": [
        "print(nomi, altezza, peso)"
      ],
      "metadata": {
        "id": "0tNpt3SIa5c_"
      },
      "execution_count": null,
      "outputs": []
    }
  ]
}