{
  "nbformat": 4,
  "nbformat_minor": 0,
  "metadata": {
    "colab": {
      "provenance": [],
      "authorship_tag": "ABX9TyM/SimTTKBZqQUE4DfbRK4J",
      "include_colab_link": true
    },
    "kernelspec": {
      "name": "python3",
      "display_name": "Python 3"
    },
    "language_info": {
      "name": "python"
    }
  },
  "cells": [
    {
      "cell_type": "markdown",
      "metadata": {
        "id": "view-in-github",
        "colab_type": "text"
      },
      "source": [
        "<a href=\"https://colab.research.google.com/github/FontanaDaniel1/Liste/blob/main/CambioValute.ipynb\" target=\"_parent\"><img src=\"https://colab.research.google.com/assets/colab-badge.svg\" alt=\"Open In Colab\"/></a>"
      ]
    },
    {
      "cell_type": "markdown",
      "source": [
        "si vogliono memorizzare i valori del cambio tra euro e dollaro negli ultimi 15 giorni"
      ],
      "metadata": {
        "id": "OAgyln8zyfTs"
      }
    },
    {
      "cell_type": "code",
      "execution_count": null,
      "metadata": {
        "id": "D_CxgxrFyVHu"
      },
      "outputs": [],
      "source": [
        "CambioED = [0.9863, 0.9766, 0.9778, 0.9861, 0.9858, 0.9857, 0.9828, 0.12, 0.11, 0.13, 0.14, 0.15, 0.16, 0.17] \n",
        "GG = [\"18/10\", \"19/10\", \"20/10\", \"21/10\", \"22/10\", \"23/10\", \"24/10\", \"25/10\", \"26/10\", \"27/10\", \"28/10\", \"29/10\", \"30/10\", \"31/10\"]"
      ]
    },
    {
      "cell_type": "markdown",
      "source": [
        "trovare il giorno in cui il dollaro valeva di più"
      ],
      "metadata": {
        "id": "TS7BEll9y_Tl"
      }
    },
    {
      "cell_type": "code",
      "source": [
        "print(GG[CambioED.index(max(CambioED))])"
      ],
      "metadata": {
        "id": "GzcwrO5KzM_i"
      },
      "execution_count": null,
      "outputs": []
    },
    {
      "cell_type": "markdown",
      "source": [
        "trovare quanto valeva il dollaro una settimana fa"
      ],
      "metadata": {
        "id": "mDCY4RuzzFw6"
      }
    },
    {
      "cell_type": "code",
      "source": [
        "num = input()\n",
        "print(CambioED[len(GG) - int(num)])\n",
        "\n",
        "val = (CambioED[len(GG)-7]) #<--- \n",
        "print(val)"
      ],
      "metadata": {
        "id": "O0IJAP7XzNVL",
        "colab": {
          "base_uri": "https://localhost:8080/"
        },
        "outputId": "456cf742-b9f5-4a63-ffdc-9f59adc7dba8"
      },
      "execution_count": null,
      "outputs": [
        {
          "output_type": "stream",
          "name": "stdout",
          "text": [
            "8\n",
            "0.9828\n",
            "0.12\n"
          ]
        }
      ]
    },
    {
      "cell_type": "markdown",
      "source": [
        "trovare il valori del dollaro nel periodo compreso tra 5 e 3 gg fa"
      ],
      "metadata": {
        "id": "EXOLZ0K0zPkK"
      }
    },
    {
      "cell_type": "code",
      "source": [
        "for indice in range(1, 4):\n",
        "  print(CambioED[indice])"
      ],
      "metadata": {
        "id": "Voy4ktBBzY5S",
        "colab": {
          "base_uri": "https://localhost:8080/"
        },
        "outputId": "c91b9675-f465-4d92-c548-6605bff4fd19"
      },
      "execution_count": null,
      "outputs": [
        {
          "output_type": "stream",
          "name": "stdout",
          "text": [
            "0.9766\n",
            "0.9778\n",
            "0.9861\n"
          ]
        }
      ]
    }
  ]
}