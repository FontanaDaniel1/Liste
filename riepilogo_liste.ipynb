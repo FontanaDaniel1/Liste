{
  "nbformat": 4,
  "nbformat_minor": 0,
  "metadata": {
    "colab": {
      "provenance": [],
      "authorship_tag": "ABX9TyM3QUOLvHf2dtV4v+6FIoEJ",
      "include_colab_link": true
    },
    "kernelspec": {
      "name": "python3",
      "display_name": "Python 3"
    },
    "language_info": {
      "name": "python"
    }
  },
  "cells": [
    {
      "cell_type": "markdown",
      "metadata": {
        "id": "view-in-github",
        "colab_type": "text"
      },
      "source": [
        "<a href=\"https://colab.research.google.com/github/FontanaDaniel1/Liste/blob/main/riepilogo_liste.ipynb\" target=\"_parent\"><img src=\"https://colab.research.google.com/assets/colab-badge.svg\" alt=\"Open In Colab\"/></a>"
      ]
    },
    {
      "cell_type": "markdown",
      "source": [
        "questo notebook contiene info fondamentali per lavorare sulle liste"
      ],
      "metadata": {
        "id": "Lo1t-nPyDdkq"
      }
    },
    {
      "cell_type": "markdown",
      "source": [
        "una lista è una struttura di dati dinamica utilizzata per memorizzare i dati modo non permanente, salvataggio nella ram.\n",
        "Dinamico significa che la dimensione della lista non deve essere fissata a priori.\n",
        "Non permanente significa che i dati memorizzati nella lista vengono cancellati quando si chiude il noteboook "
      ],
      "metadata": {
        "id": "-VYG6o_dDwJm"
      }
    },
    {
      "cell_type": "markdown",
      "source": [
        "1 inizializzazione di una lista"
      ],
      "metadata": {
        "id": "XpyZwAwvFGaG"
      }
    },
    {
      "cell_type": "code",
      "source": [
        "lista = [1,2,3,4,5]"
      ],
      "metadata": {
        "id": "l6rNmVo0GL4y"
      },
      "execution_count": null,
      "outputs": []
    },
    {
      "cell_type": "markdown",
      "source": [
        "2 inserimento di elementi"
      ],
      "metadata": {
        "id": "KJoBRA6kFK6A"
      }
    },
    {
      "cell_type": "code",
      "source": [
        "lista.append(19) #aggiungi un elemento alla fine della lista\n",
        "lista.extend ([11,12,13]) #aggiungo 3 elementi alla fine della lista\n",
        "lista.insert (5,20) #aggiunge num 20 a posizione 5\n",
        "print(lista)"
      ],
      "metadata": {
        "id": "wcVIOfu5GbVx"
      },
      "execution_count": null,
      "outputs": []
    },
    {
      "cell_type": "markdown",
      "source": [
        "3 visualizzazione della lista"
      ],
      "metadata": {
        "id": "WPbebZJwFQNm"
      }
    },
    {
      "cell_type": "code",
      "source": [
        "print(lista)"
      ],
      "metadata": {
        "id": "XiYhfg-XHbnW",
        "colab": {
          "base_uri": "https://localhost:8080/"
        },
        "outputId": "99b48408-7b55-47eb-8be1-58465c38a2dd"
      },
      "execution_count": null,
      "outputs": [
        {
          "output_type": "stream",
          "name": "stdout",
          "text": [
            "[1, 2, 3, 4, 5, 20, 19, 11, 12, 13]\n"
          ]
        }
      ]
    },
    {
      "cell_type": "markdown",
      "source": [
        "4 rimozione di elementi in una lista"
      ],
      "metadata": {
        "id": "5vjTuRirFTB9"
      }
    },
    {
      "cell_type": "code",
      "source": [
        "lista.remove(20) #rimuove la prima occorrenza(istanza) del num 10\n",
        "lista.pop(10) #rimuove l'elemento in posizione 10\n",
        "del lista[10] #rimuove l'elemento in posizione 10 "
      ],
      "metadata": {
        "id": "EEgJDu9XH2_z"
      },
      "execution_count": null,
      "outputs": []
    },
    {
      "cell_type": "markdown",
      "source": [
        "5  aggiunta di un elemento di una lista"
      ],
      "metadata": {
        "id": "nLCWYBN_FWPU"
      }
    },
    {
      "cell_type": "code",
      "source": [
        "lista.append(10) #aggiungi un elemento alla fine della lista\n",
        "lista.extend ([11,12,13]) #aggiungo 3 elementi alla fine della lista\n",
        "lista.insert (5,20) #aggiunge num 20 a posizione 5"
      ],
      "metadata": {
        "id": "BQ3RV5-aJKCc"
      },
      "execution_count": null,
      "outputs": []
    },
    {
      "cell_type": "markdown",
      "source": [
        "6 visualizzazione di uno o più elementi in una lista"
      ],
      "metadata": {
        "id": "MxOWblRbFdRZ"
      }
    },
    {
      "cell_type": "code",
      "source": [
        "print(lista[4]) #visualizza il quinto elemento, cioè l'elemento in posizione 4 perchè l'indice della lista parte da 0\n",
        "print(lista[4:8]) #slicing: visualizzare gli elementi dalla posizione 4 alla posizone 7\n",
        "print(lista[4:8:2]) #slicing: visualizzare gli elementi dalla posizione 4 alla posizone 7 due a due\n",
        "print(lista[4:]) #visualizza gli elementi dal 4 fino alla fine\n",
        "print(lista[:4]) #visualizza gli elementi fino alla posizione 3\n",
        "print(lista[::4]) #prende tutti i numeri a 4 a 4\n",
        "print(lista[-1]) #visualizza l'ultimo elemento"
      ],
      "metadata": {
        "id": "kU7WCYpZJNQJ"
      },
      "execution_count": null,
      "outputs": []
    },
    {
      "cell_type": "code",
      "source": [
        "lista.index(19) #restituisce l'indice dove si trova la prima occorenza dell'elemento 10"
      ],
      "metadata": {
        "id": "7LS07KZoTkCM",
        "colab": {
          "base_uri": "https://localhost:8080/"
        },
        "outputId": "9007fc87-4f37-4fc3-8c9a-324edcbc56a6"
      },
      "execution_count": null,
      "outputs": [
        {
          "output_type": "execute_result",
          "data": {
            "text/plain": [
              "6"
            ]
          },
          "metadata": {},
          "execution_count": 9
        }
      ]
    },
    {
      "cell_type": "markdown",
      "source": [
        "7 trovare minimo, massimo in una lista"
      ],
      "metadata": {
        "id": "Q_pU-0URFxbx"
      }
    },
    {
      "cell_type": "code",
      "source": [
        "min(lista)\n",
        "max(lista)\n",
        "print(max(lista))\n",
        "print(min(lista))"
      ],
      "metadata": {
        "id": "ZZvL8h2pLwjD",
        "outputId": "3a1a3d53-05de-425b-b801-af0ae7bff969",
        "colab": {
          "base_uri": "https://localhost:8080/"
        }
      },
      "execution_count": null,
      "outputs": [
        {
          "output_type": "stream",
          "name": "stdout",
          "text": [
            "5\n",
            "1\n"
          ]
        }
      ]
    },
    {
      "cell_type": "markdown",
      "source": [
        "8 effettuare operazioni sugli elementi di una lista"
      ],
      "metadata": {
        "id": "obRWJdO7F5IB"
      }
    },
    {
      "cell_type": "code",
      "source": [
        "sum(lista) #somma ti tutti gli elementi\n",
        "from statistics import mean \n",
        "mean(lista) #calcola la media di tutti gli elementi di una lista\n",
        "len(lista) #conta quanti elementi ha la lista\n",
        "print(sum(lista))\n",
        "print(mean(lista))\n",
        "print(len(lista))"
      ],
      "metadata": {
        "id": "dduOqTXlMNFj",
        "outputId": "364258ad-c089-4132-9c1f-d1b386749299",
        "colab": {
          "base_uri": "https://localhost:8080/"
        }
      },
      "execution_count": null,
      "outputs": [
        {
          "output_type": "stream",
          "name": "stdout",
          "text": [
            "15\n",
            "3\n",
            "5\n"
          ]
        }
      ]
    },
    {
      "cell_type": "markdown",
      "source": [
        "9 ordinare gli elementi di una lista in ordine crescente e descrescente"
      ],
      "metadata": {
        "id": "ap4Bq1cEF88I"
      }
    },
    {
      "cell_type": "code",
      "source": [
        "lista.sort() #ordina gli elementi di una lista in ordine crescente\n",
        "print(lista)lista.sort(reverse=True) #ordina gli elementi di una lista in ordine decrescente\n",
        "print(lista)"
      ],
      "metadata": {
        "id": "kFl0A5TANCdy"
      },
      "execution_count": null,
      "outputs": []
    },
    {
      "cell_type": "markdown",
      "source": [
        "10 controllo della presenza di un elemento"
      ],
      "metadata": {
        "id": "7pl23IxdOYOz"
      }
    },
    {
      "cell_type": "code",
      "source": [
        "9 in lista #resituisce se il 9 è presente nella lista"
      ],
      "metadata": {
        "id": "HBKZ19L-OY1b",
        "outputId": "ce337935-9350-4a45-b34c-56b61d1bcf47",
        "colab": {
          "base_uri": "https://localhost:8080/"
        }
      },
      "execution_count": null,
      "outputs": [
        {
          "output_type": "execute_result",
          "data": {
            "text/plain": [
              "False"
            ]
          },
          "metadata": {},
          "execution_count": 6
        }
      ]
    }
  ]
}